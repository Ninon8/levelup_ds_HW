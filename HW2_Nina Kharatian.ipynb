{
 "cells": [
  {
   "cell_type": "markdown",
   "id": "6180398b",
   "metadata": {},
   "source": [
    "Класс человека\n",
    "Моделирование человека — классическое упражнение для людей, которые пытаются научиться писать классы. Мы все знакомы с характеристиками и поведением людей, поэтому стоит попробовать это упражнение.\n",
    "\n",
    "Определите класс Person().\n",
    "В функции init() определите несколько атрибутов человека. Хорошими атрибутами, которые следует учитывать, являются имя, возраст, место рождения и все, что вам нужно знать о людях в вашей жизни. Не менее 3 атрибутов.\n",
    "Напишите один метод. Это может быть просто introduce_yourself(). Этот метод выводит такое утверждение, как «Здравствуйте, меня зовут Эрик».\n",
    "Вы также можете создать такой метод, как age_person(). Простая версия этого метода просто добавит 1 к возрасту человека.\n",
    "Создайте человека, установите соответствующие значения атрибутов и выведите информацию о человеке.\n",
    "Вызовите свой метод для человека, которого вы создали. Убедитесь, что ваш метод выполняется правильно; если метод ничего не выводит напрямую, напечатайте что-нибудь до и после вызова метода, чтобы убедиться, что он сделал то, что предполагалось.\n",
    " \n"
   ]
  },
  {
   "cell_type": "code",
   "execution_count": 58,
   "id": "415d417a",
   "metadata": {
    "scrolled": true
   },
   "outputs": [
    {
     "name": "stdout",
     "output_type": "stream",
     "text": [
      "<__main__.Person object at 0x00000284648CEF70>\n",
      "person age = 12\n",
      "person age = 13\n",
      "person age = 14\n"
     ]
    }
   ],
   "source": [
    "class Person():\n",
    "   # each person has a name, age, hobby\n",
    "    def __init__(self):\n",
    "        self.name = \"Harry Potter\"\n",
    "        self.age = 11\n",
    "        self.hobby = \"chess\"\n",
    "    \n",
    "    def age_Person(self):\n",
    "        self.age +=1\n",
    "                    \n",
    "    # create a person object\n",
    "my_person = Person()\n",
    "print(my_person)\n",
    "my_person.age_Person()\n",
    "print('person age =', my_person.age)\n",
    "my_person.age_Person()\n",
    "print('person age =', my_person.age)\n",
    "my_person.age_Person()\n",
    "print('person age =', my_person.age)\n"
   ]
  },
  {
   "cell_type": "markdown",
   "id": "44e97edd",
   "metadata": {},
   "source": [
    "Студенческий класс\n",
    "Начните с вашей программы из класса Person.\n",
    "Создайте новый класс под названием Student, который наследуется от Person.\n",
    "Определите некоторые качества, которые есть у учащегося, которых нет у других людей. У учащегося есть школа, с которой он связан, год выпуска, средний балл и другие особые атрибуты.\n",
    "Создайте объект Student и докажите, что вы правильно использовали наследование.\n",
    "Установите некоторые значения атрибутов для учащегося, которые закодированы только в классе Person.\n",
    "Установите некоторые значения атрибутов для учащегося, которые закодированы только в классе учащегося.\n",
    "Выведите значения для всех этих атрибутов."
   ]
  },
  {
   "cell_type": "code",
   "execution_count": 117,
   "id": "1cd934fa",
   "metadata": {},
   "outputs": [
    {
     "name": "stdout",
     "output_type": "stream",
     "text": [
      "<__main__.Student object at 0x00000284648C0280>\n",
      "Harry Potter\n",
      "Gryffindor\n",
      "student 1 age = 12\n",
      "chess\n",
      "magic\n",
      "<__main__.Student object at 0x00000284656476A0>\n",
      "student 2 age = 13\n",
      "magician students fight against black magic\n"
     ]
    }
   ],
   "source": [
    "class Student(Person):\n",
    "          \n",
    "    def __init__(self, school=\"Gryffindor\", speciality=\"magic\", name=\"Harry Potter\", age=11, hobby=\"chess\"):\n",
    "        super().__init__()\n",
    "        self.school = school\n",
    "        self.speciality = speciality\n",
    "    # create a method for student \n",
    "    def slogan_Student(self):\n",
    "        print(\"magician students fight against black magic\")\n",
    "        \n",
    "    # create a student object     \n",
    "student1 = Student()\n",
    "print(student1)\n",
    "print(student1.name)\n",
    "print(student1.school)\n",
    "student1.age_Person()\n",
    "print(\"student 1 age =\", student1.age)\n",
    "print(student1.hobby)\n",
    "print(student1.speciality)\n",
    "    # create a student object   \n",
    "student2 = Student()\n",
    "print(student2)\n",
    "student2.age_Person()\n",
    "student2.age_Person()\n",
    "print(\"student 2 age =\", student2.age)\n",
    "student2.slogan_Student()"
   ]
  },
  {
   "cell_type": "code",
   "execution_count": null,
   "id": "9786073d",
   "metadata": {},
   "outputs": [],
   "source": []
  }
 ],
 "metadata": {
  "kernelspec": {
   "display_name": "Python 3 (ipykernel)",
   "language": "python",
   "name": "python3"
  },
  "language_info": {
   "codemirror_mode": {
    "name": "ipython",
    "version": 3
   },
   "file_extension": ".py",
   "mimetype": "text/x-python",
   "name": "python",
   "nbconvert_exporter": "python",
   "pygments_lexer": "ipython3",
   "version": "3.9.12"
  }
 },
 "nbformat": 4,
 "nbformat_minor": 5
}
