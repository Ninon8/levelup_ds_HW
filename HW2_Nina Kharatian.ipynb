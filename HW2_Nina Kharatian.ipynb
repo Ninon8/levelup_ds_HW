{
 "cells": [
  {
   "cell_type": "markdown",
   "id": "4d20b408",
   "metadata": {},
   "source": [
    "## Класс человека\n",
    "Моделирование человека — классическое упражнение для людей, которые пытаются научиться писать классы. Мы все знакомы с характеристиками и поведением людей, поэтому стоит попробовать это упражнение.\n",
    "* Определите класс Person().\n",
    "* В функции __init()__ определите несколько атрибутов человека. Хорошими атрибутами, которые следует учитывать, являются имя, возраст, место рождения и все, что вам нужно знать о людях в вашей жизни. Не менее 3 атрибутов.\n",
    "* Напишите один метод. Это может быть просто introduce_yourself(). Этот метод выводит такое утверждение, как «Здравствуйте, меня зовут Эрик».\n",
    "* Вы также можете создать такой метод, как age_person(). Простая версия этого метода просто добавит 1 к возрасту человека.\n",
    "* Создайте человека, установите соответствующие значения атрибутов и выведите информацию о человеке.\n",
    "* Вызовите свой метод для человека, которого вы создали. Убедитесь, что ваш метод выполняется правильно; если метод ничего не выводит напрямую, напечатайте что-нибудь до и после вызова метода, чтобы убедиться, что он сделал то, что предполагалось."
   ]
  },
  {
   "cell_type": "code",
   "execution_count": 1,
   "id": "487e27d0",
   "metadata": {},
   "outputs": [
    {
     "name": "stdout",
     "output_type": "stream",
     "text": [
      "<__main__.Person object at 0x0000020C8B540070>\n",
      "Здравствуйте, меня зовут Эйс Вентура . Мне 32 . Моя профессия - розыск домашних животных\n",
      "person age = 33\n",
      "person age = 34\n",
      "person age = 35\n",
      "Здравствуйте, меня зовут Эйс Вентура . Мне 35 . Моя профессия - розыск домашних животных\n"
     ]
    }
   ],
   "source": [
    "class Person():\n",
    "   # each person has a name, age, profession\n",
    "    def __init__(self, name = \"NAME\", age = 0, profession = \"?\"):\n",
    "        self.name = name\n",
    "        self.age = age\n",
    "        self.profession = profession\n",
    "    \n",
    "    def introduce_yourself(self):\n",
    "        print(\"Здравствуйте, меня зовут\", self.name, \". Мне\", self.age, \". Моя профессия -\", self.profession)\n",
    "    \n",
    "    def age_Person(self):\n",
    "        self.age +=1\n",
    "                    \n",
    "    # create a person object\n",
    "\n",
    "my_person = Person(name = \"Эйс Вентура\", age = 32, profession = \"розыск домашних животных\")\n",
    "\n",
    "print(my_person)\n",
    "\n",
    "my_person.introduce_yourself()\n",
    "\n",
    "my_person.age_Person()\n",
    "print('person age =', my_person.age)\n",
    "my_person.age_Person()\n",
    "print('person age =', my_person.age)\n",
    "my_person.age_Person()\n",
    "print('person age =', my_person.age)\n",
    "my_person.introduce_yourself()\n"
   ]
  },
  {
   "cell_type": "markdown",
   "id": "b0feab5a",
   "metadata": {},
   "source": [
    "## Студенческий класс\n",
    "\n",
    "* Начните с вашей программы из класса Person.\n",
    "* Создайте новый класс под названием Student, который наследуется от Person.\n",
    "* Определите некоторые качества, которые есть у учащегося, которых нет у других людей.\n",
    "    У учащегося есть школа, с которой он связан, год выпуска, средний балл и другие особые атрибуты.\n",
    "* Создайте объект Student и докажите, что вы правильно использовали наследование.\n",
    "* Установите некоторые значения атрибутов для учащегося, которые закодированы только в классе Person.\n",
    "* Установите некоторые значения атрибутов для учащегося, которые закодированы только в классе учащегося.\n",
    "* Выведите значения для всех этих атрибутов."
   ]
  },
  {
   "cell_type": "code",
   "execution_count": 22,
   "id": "543fece6",
   "metadata": {},
   "outputs": [
    {
     "name": "stdout",
     "output_type": "stream",
     "text": [
      "<__main__.Student object at 0x0000020C8C70EA00>\n",
      "Здравствуйте, меня зовут Эйс Вентура . Мне 20 . Моя профессия - none\n",
      "Где учится: Pet's University | Специальность: detective | Средний балл: 5\n",
      "student1 age = 21\n",
      "student1 age = 22\n",
      "<__main__.Student object at 0x0000020C8C60B3D0>\n",
      "Здравствуйте, меня зовут Alex . Мне 23 . Моя профессия - none\n",
      "Где учится: some University | Специальность: medicine\n",
      "student2 age = 24\n",
      "student2 age = 24\n",
      "<__main__.Student object at 0x0000020C8C6FEEE0>\n",
      "Здравствуйте, меня зовут  . Мне 0 . Моя профессия - \n",
      "Где учится: some other University | Специальность: IT specialist\n",
      "student3 age = 1\n",
      "student3 age = 2\n",
      "Средний балл: 4\n",
      "Средний балл: 2\n",
      "Средний балл: 4\n"
     ]
    }
   ],
   "source": [
    "                                                    # gpa = grade point average\n",
    "from random import randint\n",
    "class Student(Person):\n",
    "          \n",
    "    def __init__(self,  school = \"\", speciality = \"\", gpa = 5, name = \"\", age = 0, profession = \"\",):\n",
    "        super().__init__(name, age, profession)\n",
    "        self.school = school\n",
    "        self.speciality = speciality\n",
    "        self.gpa = gpa\n",
    "        \n",
    "    # create a method for student \n",
    "    def pass_exams (self):\n",
    "         self.gpa = randint(0,5)\n",
    "        \n",
    "    # create a student object     \n",
    "student1 = Student(school = \"Pet's University\", speciality = \"detective\", name = \"Эйс Вентура\", age = 20, profession = \"none\")\n",
    "print(student1)\n",
    "student1.introduce_yourself()    \n",
    "print(\"Где учится:\", student1.school, \"|\" , \"Специальность:\", student1.speciality, \"|\" ,  \"Средний балл:\", student1.gpa)\n",
    "student1.age_Person()\n",
    "print(\"student1 age =\", student1.age)\n",
    "student1.age_Person()\n",
    "print(\"student1 age =\", student1.age)\n",
    "    \n",
    "    # create a student object   \n",
    "student2 = Student(school = \"some University\", speciality = \"medicine\", name = \"Alex\", age = 23, profession = \"none\")\n",
    "print(student2)\n",
    "student2.introduce_yourself()\n",
    "print(\"Где учится:\", student2.school, \"|\" , \"Специальность:\", student2.speciality)\n",
    "student2.age_Person()\n",
    "print(\"student2 age =\", student2.age)\n",
    "student1.age_Person()\n",
    "print(\"student2 age =\", student2.age)\n",
    "\n",
    "\n",
    " # create a student object   \n",
    "student3 = Student(school = \"some other University\", speciality = \"IT specialist\")\n",
    "print(student3)\n",
    "student3.introduce_yourself()\n",
    "print(\"Где учится:\", student3.school, \"|\" , \"Специальность:\", student3.speciality)\n",
    "student3.age_Person()\n",
    "print(\"student3 age =\", student3.age)\n",
    "student3.age_Person()\n",
    "print(\"student3 age =\", student3.age)\n",
    "\n",
    "student1.pass_exams()\n",
    "student2.pass_exams()\n",
    "student3.pass_exams()\n",
    "print(\"Средний балл:\", student1.gpa)\n",
    "print(\"Средний балл:\", student2.gpa)\n",
    "print(\"Средний балл:\", student3.gpa)"
   ]
  },
  {
   "cell_type": "code",
   "execution_count": null,
   "id": "02761bab",
   "metadata": {},
   "outputs": [],
   "source": []
  },
  {
   "cell_type": "code",
   "execution_count": null,
   "id": "5f8d79f6",
   "metadata": {},
   "outputs": [],
   "source": []
  },
  {
   "cell_type": "code",
   "execution_count": null,
   "id": "bf406a85",
   "metadata": {},
   "outputs": [],
   "source": []
  }
 ],
 "metadata": {
  "kernelspec": {
   "display_name": "Python 3 (ipykernel)",
   "language": "python",
   "name": "python3"
  },
  "language_info": {
   "codemirror_mode": {
    "name": "ipython",
    "version": 3
   },
   "file_extension": ".py",
   "mimetype": "text/x-python",
   "name": "python",
   "nbconvert_exporter": "python",
   "pygments_lexer": "ipython3",
   "version": "3.9.12"
  }
 },
 "nbformat": 4,
 "nbformat_minor": 5
}
