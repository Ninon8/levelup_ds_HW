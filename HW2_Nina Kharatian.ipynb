{
 "cells": [
  {
   "cell_type": "markdown",
   "id": "6180398b",
   "metadata": {},
   "source": [
    "Класс человека\n",
    "Моделирование человека — классическое упражнение для людей, которые пытаются научиться писать классы. Мы все знакомы с характеристиками и поведением людей, поэтому стоит попробовать это упражнение.\n",
    "\n",
    "Определите класс Person().\n",
    "В функции init() определите несколько атрибутов человека. Хорошими атрибутами, которые следует учитывать, являются имя, возраст, место рождения и все, что вам нужно знать о людях в вашей жизни. Не менее 3 атрибутов.\n",
    "Напишите один метод. Это может быть просто introduce_yourself(). Этот метод выводит такое утверждение, как «Здравствуйте, меня зовут Эрик».\n",
    "Вы также можете создать такой метод, как age_person(). Простая версия этого метода просто добавит 1 к возрасту человека.\n",
    "Создайте человека, установите соответствующие значения атрибутов и выведите информацию о человеке.\n",
    "Вызовите свой метод для человека, которого вы создали. Убедитесь, что ваш метод выполняется правильно; если метод ничего не выводит напрямую, напечатайте что-нибудь до и после вызова метода, чтобы убедиться, что он сделал то, что предполагалось.\n",
    " \n"
   ]
  },
  {
   "cell_type": "code",
   "execution_count": 91,
   "id": "415d417a",
   "metadata": {
    "scrolled": true
   },
   "outputs": [
    {
     "name": "stdout",
     "output_type": "stream",
     "text": [
      "<__main__.Human object at 0x0000017B6B8E5D90>\n",
      "Tom\n",
      "human age = 5\n",
      "human age = 10\n",
      "human age = 15\n",
      "human age = 20\n",
      "human age = 25\n",
      "climbing\n"
     ]
    }
   ],
   "source": [
    "class Human():\n",
    "   # each human has a name, age, hobby\n",
    "    def __init__(self):\n",
    "        self.name = \"\"\n",
    "        self.age = 0\n",
    "        self.hobby = \"\"\n",
    "    \n",
    "    def age_Human(self):\n",
    "        self.age +=5\n",
    "    \n",
    "    # create a human object\n",
    "my_human = Human()\n",
    "print(my_human)\n",
    "my_human.name = \"Tom\"\n",
    "print(my_human.name)\n",
    "my_human.age_Human()\n",
    "print('human age =', my_human.age)\n",
    "my_human.age_Human()\n",
    "print('human age =', my_human.age)\n",
    "my_human.age_Human()\n",
    "print('human age =', my_human.age)\n",
    "my_human.age_Human()\n",
    "print('human age =', my_human.age)\n",
    "my_human.age_Human()\n",
    "print('human age =', my_human.age)\n",
    "\n",
    "my_human.hobby = \"climbing\"\n",
    "print(my_human.hobby)"
   ]
  },
  {
   "cell_type": "markdown",
   "id": "44e97edd",
   "metadata": {},
   "source": [
    "Студенческий класс\n",
    "Начните с вашей программы из класса Person.\n",
    "Создайте новый класс под названием Student, который наследуется от Person.\n",
    "Определите некоторые качества, которые есть у учащегося, которых нет у других людей. У учащегося есть школа, с которой он связан, год выпуска, средний балл и другие особые атрибуты.\n",
    "Создайте объект Student и докажите, что вы правильно использовали наследование.\n",
    "Установите некоторые значения атрибутов для учащегося, которые закодированы только в классе Person.\n",
    "Установите некоторые значения атрибутов для учащегося, которые закодированы только в классе учащегося.\n",
    "Выведите значения для всех этих атрибутов."
   ]
  },
  {
   "cell_type": "code",
   "execution_count": null,
   "id": "1cd934fa",
   "metadata": {},
   "outputs": [],
   "source": [
    "class Student(Human):\n",
    "    "
   ]
  }
 ],
 "metadata": {
  "kernelspec": {
   "display_name": "Python 3 (ipykernel)",
   "language": "python",
   "name": "python3"
  },
  "language_info": {
   "codemirror_mode": {
    "name": "ipython",
    "version": 3
   },
   "file_extension": ".py",
   "mimetype": "text/x-python",
   "name": "python",
   "nbconvert_exporter": "python",
   "pygments_lexer": "ipython3",
   "version": "3.9.12"
  }
 },
 "nbformat": 4,
 "nbformat_minor": 5
}
