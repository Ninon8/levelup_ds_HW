{
 "cells": [
  {
   "cell_type": "markdown",
   "id": "f22952db",
   "metadata": {},
   "source": [
    "## Задача 1\n",
    "\n",
    "Из передачи “Здоровье” Аня узнала, что рекомендуется спать хотя бы AA часов в сутки, но пересыпать тоже вредно и не стоит спать более BB часов. Сейчас Аня спит HH часов в сутки. Если режим сна Ани удовлетворяет рекомендациям передачи “Здоровье”, выведите “Это нормально”. Если Аня спит менее AA часов, выведите “Недосып”, если же более BB часов, то выведите “Пересып”.\n",
    "\n",
    "Получаемое число AA всегда меньше либо равно BB.\n",
    "\n",
    "На вход программе в три строки подаются переменные в следующем порядке: AA, BB, HH.\n",
    "\n",
    "Это первое не самое тривиальное задание на условное выражение. В случаях, когда разбить исполнение программы на несколько направлений, стоит внимательно обдумать все условия, которые нужно использовать. Особое внимание стоит уделить строгости используемых условных операторов: различайте << и ≤≤; >> и ≥≥. Для того, чтобы понимать, какой из них стоит использовать, внимательно прочитайте условие задания"
   ]
  },
  {
   "cell_type": "code",
   "execution_count": 31,
   "id": "65410cd4",
   "metadata": {},
   "outputs": [
    {
     "name": "stdout",
     "output_type": "stream",
     "text": [
      "Это пересып\n"
     ]
    }
   ],
   "source": [
    "AA=7\n",
    "BB=11\n",
    "HH=12\n",
    "\n",
    "if AA<=HH<=BB:\n",
    "    print (\"Это нормально\")\n",
    "if HH<AA:\n",
    "    print(\"Это недосып\")\n",
    "if HH>BB:\n",
    "    print (\"Это пересып\")"
   ]
  },
  {
   "cell_type": "markdown",
   "id": "0f14745c",
   "metadata": {},
   "source": [
    "## Задача 2\n",
    "Требуется определить, является ли данный год високосным.\n",
    "\n",
    "Напомним, что високосными годами считаются те годы, порядковый номер которых либо кратен 4, но при этом не кратен 100, либо кратен 400 (например, 2000-й год являлся високосным, а 2100-й будет невисокосным годом). \n",
    "Программа должна корректно работать на числах 1900≤n≤3000.\n",
    "\n",
    "Выведите \"Високосный\" в случае, если считанный год является високосным и \"Обычный\" в обратном случае (не забывайте проверять регистр выводимых программой символов)."
   ]
  },
  {
   "cell_type": "code",
   "execution_count": 230,
   "id": "d557de88",
   "metadata": {
    "scrolled": false
   },
   "outputs": [
    {
     "name": "stdout",
     "output_type": "stream",
     "text": [
      "Високосный\n"
     ]
    }
   ],
   "source": [
    "x=2000\n",
    "# for x in range(1900, 3001):\n",
    "if x % 4 == 0 and x % 100 != 0:\n",
    "    print (\"Високосный\")\n",
    "elif x % 4 == 0 and x % 400 == 0:\n",
    "    print (\"Високосный\")\n",
    "else:\n",
    "    print (\"Обычный\")"
   ]
  },
  {
   "cell_type": "markdown",
   "id": "917a0741",
   "metadata": {},
   "source": [
    "## Задача 3\n",
    "\n",
    "Напишите программу, на вход которой подается одна строка с целыми числами. Программа должна вывести сумму этих чисел.\n",
    "\n",
    "Используйте метод split строки. \n",
    "\n",
    "Напишите программу, которая выводит часть последовательности 1 2 2 3 3 3 4 4 4 4 5 5 5 5 5 ... (число повторяется столько раз, чему равно). На вход программе передаётся неотрицательное целое число n — столько элементов последовательности должна отобразить программа. На выходе ожидается последовательность чисел, записанных через пробел в одну строку. \n",
    "\n",
    "Например, если n = 7, то программа должна вывести 1 2 2 3 3 3 4."
   ]
  },
  {
   "cell_type": "code",
   "execution_count": 33,
   "id": "41960e8b",
   "metadata": {},
   "outputs": [
    {
     "name": "stdout",
     "output_type": "stream",
     "text": [
      "4 7 8\n"
     ]
    },
    {
     "ename": "TypeError",
     "evalue": "int() argument must be a string, a bytes-like object or a number, not 'list'",
     "output_type": "error",
     "traceback": [
      "\u001b[1;31m---------------------------------------------------------------------------\u001b[0m",
      "\u001b[1;31mTypeError\u001b[0m                                 Traceback (most recent call last)",
      "Input \u001b[1;32mIn [33]\u001b[0m, in \u001b[0;36m<cell line: 3>\u001b[1;34m()\u001b[0m\n\u001b[0;32m      1\u001b[0m a \u001b[38;5;241m=\u001b[39m (\u001b[38;5;28minput\u001b[39m())\n\u001b[0;32m      2\u001b[0m a\u001b[38;5;241m=\u001b[39m(a\u001b[38;5;241m.\u001b[39msplit(\u001b[38;5;124m\"\u001b[39m\u001b[38;5;124m \u001b[39m\u001b[38;5;124m\"\u001b[39m))\n\u001b[1;32m----> 3\u001b[0m \u001b[38;5;28;43mint\u001b[39;49m\u001b[43m(\u001b[49m\u001b[43ma\u001b[49m\u001b[43m)\u001b[49m\n\u001b[0;32m      4\u001b[0m result\u001b[38;5;241m=\u001b[39m\u001b[38;5;241m0\u001b[39m\n\u001b[0;32m      5\u001b[0m \u001b[38;5;28;01mfor\u001b[39;00m x \u001b[38;5;129;01min\u001b[39;00m a:\n",
      "\u001b[1;31mTypeError\u001b[0m: int() argument must be a string, a bytes-like object or a number, not 'list'"
     ]
    }
   ],
   "source": [
    "a = (input())\n",
    "a=(a.split(\" \"))\n",
    "int\n",
    "result=0\n",
    "for x in a:\n",
    "    result += x\n",
    "print(result)\n",
    "\n",
    "n = int(input())\n",
    "count = 0\n",
    "for i in range(1, n+1):\n",
    "    for b in range(i):\n",
    "        if count == n:\n",
    "            break\n",
    "        count+= 1\n",
    "        print(i, end = \" \")"
   ]
  },
  {
   "cell_type": "markdown",
   "id": "c4b27809",
   "metadata": {},
   "source": [
    "## Задача 4\n",
    "\n",
    "Напишите программу, которая считывает с клавиатуры два числа a и b, считает и выводит среднее арифметическое всех чисел из отрезка [a;b], которые кратны числу 3.\n",
    "\n",
    "В приведенном ниже примере среднее арифметическое считается для чисел на отрезке [−5;12]. Всего чисел, делящихся на 3, на этом отрезке 6: −3,0,3,6,9,12. Их среднее арифметическое равно 4.5\n",
    "На вход программе подаются интервалы, внутри которых всегда есть хотя бы одно число, которое делится на 3."
   ]
  },
  {
   "cell_type": "code",
   "execution_count": 11,
   "id": "9cdea05f",
   "metadata": {},
   "outputs": [
    {
     "name": "stdout",
     "output_type": "stream",
     "text": [
      "4.5\n"
     ]
    }
   ],
   "source": [
    "a = -5\n",
    "b = 12\n",
    "summ = 0\n",
    "count = 0\n",
    "for i in range (a, b+1):\n",
    "    if i % 3 == 0:\n",
    "        summ += i\n",
    "        count += 1\n",
    "print(summ /count)"
   ]
  },
  {
   "cell_type": "markdown",
   "id": "33db7e8c",
   "metadata": {},
   "source": [
    "## Задача 5\n",
    "\n",
    "Напишите функцию modify_list(l), которая принимает на вход список целых чисел, удаляет из него все нечётные значения, а чётные нацело делит на два. Функция не должна ничего возвращать, требуется только изменение переданного списка, например:\n",
    "\n",
    "Функция не должна осуществлять ввод/вывод информации."
   ]
  },
  {
   "cell_type": "code",
   "execution_count": null,
   "id": "a71b3783",
   "metadata": {},
   "outputs": [],
   "source": [
    "lst = [1, 2, 3, 4, 5, 6]\n",
    "print(modify_list(lst))  # None\n",
    "print(lst)               # [1, 2, 3]\n",
    "modify_list(lst)\n",
    "print(lst)               # [1]\n",
    "\n",
    "lst = [10, 5, 8, 3]\n",
    "modify_list(lst)\n",
    "print(lst)               # [5, 4]"
   ]
  },
  {
   "cell_type": "code",
   "execution_count": 45,
   "id": "ff18d66a",
   "metadata": {},
   "outputs": [
    {
     "name": "stdout",
     "output_type": "stream",
     "text": [
      "initial list :  [1, 2, 3, 4, 5, 6]\n"
     ]
    },
    {
     "ename": "IndexError",
     "evalue": "list index out of range",
     "output_type": "error",
     "traceback": [
      "\u001b[1;31m---------------------------------------------------------------------------\u001b[0m",
      "\u001b[1;31mIndexError\u001b[0m                                Traceback (most recent call last)",
      "Input \u001b[1;32mIn [45]\u001b[0m, in \u001b[0;36m<cell line: 11>\u001b[1;34m()\u001b[0m\n\u001b[0;32m      8\u001b[0m             \u001b[38;5;28mlist\u001b[39m\u001b[38;5;241m.\u001b[39mremove(el)\n\u001b[0;32m     10\u001b[0m \u001b[38;5;28mprint\u001b[39m(\u001b[38;5;124m'\u001b[39m\u001b[38;5;124minitial list : \u001b[39m\u001b[38;5;124m'\u001b[39m, lst)\n\u001b[1;32m---> 11\u001b[0m \u001b[38;5;28mprint\u001b[39m(\u001b[38;5;124m'\u001b[39m\u001b[38;5;124mdirect modify_list(lst) : \u001b[39m\u001b[38;5;124m'\u001b[39m, \u001b[43mmodify_list\u001b[49m\u001b[43m(\u001b[49m\u001b[43mlst\u001b[49m\u001b[43m)\u001b[49m)\n\u001b[0;32m     12\u001b[0m modify_list(\u001b[38;5;28mlist\u001b[39m)\n\u001b[0;32m     13\u001b[0m \u001b[38;5;28mprint\u001b[39m(\u001b[38;5;124m'\u001b[39m\u001b[38;5;124mmodified list : \u001b[39m\u001b[38;5;124m'\u001b[39m, \u001b[38;5;28mlist\u001b[39m)\n",
      "Input \u001b[1;32mIn [45]\u001b[0m, in \u001b[0;36mmodify_list\u001b[1;34m(lst)\u001b[0m\n\u001b[0;32m      2\u001b[0m \u001b[38;5;28;01mdef\u001b[39;00m \u001b[38;5;21mmodify_list\u001b[39m(lst):\n\u001b[0;32m      3\u001b[0m     \u001b[38;5;28;01mfor\u001b[39;00m i \u001b[38;5;129;01min\u001b[39;00m \u001b[38;5;28mrange\u001b[39m(\u001b[38;5;28mlen\u001b[39m(lst)):\n\u001b[1;32m----> 4\u001b[0m         \u001b[38;5;28;01mif\u001b[39;00m \u001b[38;5;28;43mlist\u001b[39;49m\u001b[43m[\u001b[49m\u001b[43mi\u001b[49m\u001b[43m]\u001b[49m\u001b[38;5;241m%\u001b[39m\u001b[38;5;241m2\u001b[39m \u001b[38;5;241m==\u001b[39m \u001b[38;5;241m0\u001b[39m:\n\u001b[0;32m      5\u001b[0m             \u001b[38;5;28mlist\u001b[39m[i] \u001b[38;5;241m=\u001b[39m \u001b[38;5;28mlist\u001b[39m[i]\u001b[38;5;241m/\u001b[39m\u001b[38;5;241m/\u001b[39m\u001b[38;5;241m2\u001b[39m\n\u001b[0;32m      6\u001b[0m     \u001b[38;5;28;01mfor\u001b[39;00m el \u001b[38;5;129;01min\u001b[39;00m \u001b[38;5;28mlist\u001b[39m:\n",
      "\u001b[1;31mIndexError\u001b[0m: list index out of range"
     ]
    }
   ],
   "source": [
    "lst = [1,2,3,4,5,6] \n",
    "def modify_list(lst):\n",
    "    for i in range(len(lst)):\n",
    "        if list[i]%2 == 0:\n",
    "            list[i] = list[i]//2\n",
    "    for el in list:\n",
    "        if el%2 > 0:\n",
    "            list.remove(el)\n",
    "\n",
    "print('initial list : ', lst)\n",
    "print('direct modify_list(lst) : ', modify_list(lst))\n",
    "modify_list(list)\n",
    "print('modified list : ', list)"
   ]
  },
  {
   "cell_type": "markdown",
   "id": "f83ababe",
   "metadata": {},
   "source": [
    "## Задача 6\n",
    "\n",
    "Напишите функцию update_dictionary(d, key, value), которая принимает на вход словарь d и два числа: key и value.\n",
    "\n",
    "Если ключ key есть в словаре d, то добавьте значение value в список, который хранится по этому ключу.\n",
    "Если ключа key нет в словаре, то нужно добавить значение в список по ключу 2∗key. Если и ключа 2∗key нет, то нужно добавить ключ 2∗key в словарь и сопоставить ему список из переданного элемента value.\n",
    "\n",
    "Требуется реализовать только эту функцию, кода вне её не должно быть.\n",
    "Функция не должна вызывать внутри себя функции input и print.\n",
    "\n",
    "Пример работы функции:"
   ]
  },
  {
   "cell_type": "code",
   "execution_count": 34,
   "id": "19cae789",
   "metadata": {},
   "outputs": [
    {
     "name": "stdout",
     "output_type": "stream",
     "text": [
      "d {}\n",
      "None\n",
      "{2: [-1]}\n",
      "d {2: [-1]}\n",
      "{2: [-1, -2]}\n",
      "d {2: [-1, -2]}\n",
      "{2: [-1, -2, -3]}\n"
     ]
    }
   ],
   "source": [
    "d = {}\n",
    "print(update_dictionary(d, 1, -1))  # None\n",
    "print(d)                            # {2: [-1]}\n",
    "update_dictionary(d, 2, -2)\n",
    "print(d)                            # {2: [-1, -2]}\n",
    "update_dictionary(d, 1, -3)\n",
    "print(d)                            # {2: [-1, -2, -3]}"
   ]
  },
  {
   "cell_type": "code",
   "execution_count": 50,
   "id": "8293893f",
   "metadata": {},
   "outputs": [
    {
     "name": "stdout",
     "output_type": "stream",
     "text": [
      "d {}\n",
      "check (should print None) : None\n",
      "initial d :  {2: [-1]}\n",
      "d {2: [-1]}\n",
      "updated d (2, -2) :  {2: [-1, -2]}\n",
      "d {2: [-1, -2]}\n",
      "updated d (1, -3) :  {2: [-1, -2, -3]}\n"
     ]
    }
   ],
   "source": [
    "d={}\n",
    "def update_dictionary(d, key, value):\n",
    "  print ('d', d)\n",
    "  if key in d:\n",
    "    d[key].append(value)\n",
    "  else:\n",
    "    if key * 2 in d:\n",
    "      d[key * 2].append(value)\n",
    "    else:\n",
    "      d[key * 2] = [value]\n",
    "\n",
    "print('check (should print None) :', update_dictionary(d, 1, -1)) \n",
    "print('initial d : ', d)                          \n",
    "update_dictionary(d, 2, -2)\n",
    "print('updated d (2, -2) : ', d)                            \n",
    "update_dictionary(d, 1, -3) # should append to '2'\n",
    "print('updated d (1, -3) : ', d)"
   ]
  },
  {
   "cell_type": "markdown",
   "id": "092907bf",
   "metadata": {},
   "source": [
    "Для самостоятельной работы, показать мастерство: https://stepik.org/course/67/syllabus"
   ]
  }
 ],
 "metadata": {
  "kernelspec": {
   "display_name": "Python 3 (ipykernel)",
   "language": "python",
   "name": "python3"
  },
  "language_info": {
   "codemirror_mode": {
    "name": "ipython",
    "version": 3
   },
   "file_extension": ".py",
   "mimetype": "text/x-python",
   "name": "python",
   "nbconvert_exporter": "python",
   "pygments_lexer": "ipython3",
   "version": "3.9.12"
  }
 },
 "nbformat": 4,
 "nbformat_minor": 5
}
