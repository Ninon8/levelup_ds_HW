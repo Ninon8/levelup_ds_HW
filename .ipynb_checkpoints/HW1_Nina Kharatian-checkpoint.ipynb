{
 "cells": [
  {
   "cell_type": "markdown",
   "id": "18c4335b",
   "metadata": {},
   "source": [
    "# Задача 1\n",
    "Из передачи “Здоровье” Аня узнала, что рекомендуется спать хотя бы AA часов в сутки, но пересыпать тоже вредно и не стоит спать более BB часов. Сейчас Аня спит HH часов в сутки. Если режим сна Ани удовлетворяет рекомендациям передачи “Здоровье”, выведите “Это нормально”. Если Аня спит менее AA часов, выведите “Недосып”, если же более BB часов, то выведите “Пересып”.\n",
    "\n",
    "Получаемое число AA всегда меньше либо равно BB.\n",
    "\n",
    "На вход программе в три строки подаются переменные в следующем порядке: AA, BB, HH.\n",
    "\n",
    "Это первое не самое тривиальное задание на условное выражение. В случаях, когда разбить исполнение программы на несколько направлений, стоит внимательно обдумать все условия, которые нужно использовать. Особое внимание стоит уделить строгости используемых условных операторов: различайте < и ≤; > и ≥. Для того, чтобы понимать, какой из них стоит использовать, внимательно прочитайте условие задания"
   ]
  },
  {
   "cell_type": "code",
   "execution_count": 29,
   "id": "32904d83",
   "metadata": {},
   "outputs": [
    {
     "name": "stdout",
     "output_type": "stream",
     "text": [
      "Это нормально\n"
     ]
    }
   ],
   "source": [
    "AA = 8\n",
    "BB = 10\n",
    "HH = 9\n",
    "\n",
    "if AA<=HH<=BB:\n",
    "    print (\"Это нормально\")\n",
    "elif HH<AA:\n",
    "    print(\"Это недосып\")\n",
    "elif HH>BB:\n",
    "    print (\"Это пересып\")"
   ]
  },
  {
   "cell_type": "markdown",
   "id": "ed3ecc97",
   "metadata": {},
   "source": [
    "# Задача 2\n",
    "Требуется определить, является ли данный год високосным.\n",
    "\n",
    "Напомним, что високосными годами считаются те годы, порядковый номер которых либо кратен 4, но при этом не кратен 100, либо кратен 400 (например, 2000-й год являлся високосным, а 2100-й будет невисокосным годом). Программа должна корректно работать на числах 1900≤n≤3000. Выведите \"Високосный\" в случае, если считанный год является високосным и \"Обычный\" в обратном случае (не забывайте проверять регистр выводимых программой символов)."
   ]
  },
  {
   "cell_type": "code",
   "execution_count": 30,
   "id": "232784fa",
   "metadata": {},
   "outputs": [
    {
     "name": "stdout",
     "output_type": "stream",
     "text": [
      "Обычный\n"
     ]
    }
   ],
   "source": [
    "year=2100\n",
    "\n",
    "if year % 4 == 0 and year % 100 != 0 or year % 400 == 0:\n",
    "    print (\"Високосный\")\n",
    "else:\n",
    "    print(\"Обычный\")"
   ]
  },
  {
   "cell_type": "markdown",
   "id": "3c171536",
   "metadata": {},
   "source": [
    "# Задача 3\n",
    "\n",
    "Напишите программу, на вход которой подается одна строка с целыми числами. Программа должна вывести сумму этих чисел.\n",
    "\n",
    "Используйте метод split строки. Я верю что вы сможете нагуглить."
   ]
  },
  {
   "cell_type": "code",
   "execution_count": 83,
   "id": "9260fa23",
   "metadata": {
    "scrolled": true
   },
   "outputs": [
    {
     "name": "stdout",
     "output_type": "stream",
     "text": [
      "5 4 1 2\n"
     ]
    },
    {
     "data": {
      "text/plain": [
       "12"
      ]
     },
     "execution_count": 83,
     "metadata": {},
     "output_type": "execute_result"
    }
   ],
   "source": [
    "x = [int(i) for i in input().split()]\n",
    "result = 0\n",
    "for i in x:\n",
    "    result +=i\n",
    "result"
   ]
  },
  {
   "cell_type": "markdown",
   "id": "94aac7eb",
   "metadata": {},
   "source": [
    "# Задача 4\n",
    "\n",
    "Напишите программу, которая считывает два числа a и b, считает и выводит среднее арифметическое всех чисел из отрезка [a:b], которые кратны числу 3.\n",
    "\n",
    "В приведенном ниже примере среднее арифметическое считается для чисел на отрезке [−5;12]. Всего чисел, делящихся на 3, на этом отрезке 6: −3,0,3,6,9,12. Их среднее арифметическое равно 4.5 На вход программе подаются интервалы, внутри которых всегда есть хотя бы одно число, которое делится на 3."
   ]
  },
  {
   "cell_type": "code",
   "execution_count": 84,
   "id": "1cd438ab",
   "metadata": {},
   "outputs": [
    {
     "name": "stdout",
     "output_type": "stream",
     "text": [
      "4.5\n"
     ]
    }
   ],
   "source": [
    "a=-5\n",
    "b=12\n",
    "sum = 0\n",
    "count = 0\n",
    "for i in range(a, b+1):\n",
    "    if i % 3 == 0:\n",
    "        sum += i\n",
    "        count += 1\n",
    "print(sum/count)"
   ]
  },
  {
   "cell_type": "code",
   "execution_count": 85,
   "id": "15cbafa7",
   "metadata": {},
   "outputs": [
    {
     "name": "stdout",
     "output_type": "stream",
     "text": [
      "5\n",
      "45\n",
      "25.5\n"
     ]
    }
   ],
   "source": [
    "a=int(input())\n",
    "b=int(input())\n",
    "sum = 0\n",
    "count = 0\n",
    "for i in range(a, b+1):\n",
    "    if i % 3 == 0:\n",
    "        sum += i\n",
    "        count += 1\n",
    "print(sum/count)"
   ]
  },
  {
   "cell_type": "markdown",
   "id": "14c98e5a",
   "metadata": {},
   "source": [
    "# Задача 5\n",
    "Напишите функцию modify_list(l), которая принимает на вход список целых чисел, удаляет из него все нечётные значения, а чётные нацело делит на два. Функция не должна ничего возвращать, требуется только изменение переданного списка, например:\n",
    "\n",
    "Функция не должна осуществлять ввод/вывод информации."
   ]
  },
  {
   "cell_type": "code",
   "execution_count": 86,
   "id": "acf0e455",
   "metadata": {},
   "outputs": [
    {
     "name": "stdout",
     "output_type": "stream",
     "text": [
      "None\n",
      "[1, 2, 3, 4, 5, 6]\n",
      "[1, 2, 3, 4, 5, 6]\n",
      "[10, 5, 8, 3]\n"
     ]
    }
   ],
   "source": [
    "lst = [1, 2, 3, 4, 5, 6]\n",
    "print(modify_list(lst))  # None\n",
    "print(lst)               # [1, 2, 3]\n",
    "modify_list(lst)\n",
    "print(lst)               # [1]\n",
    "\n",
    "lst = [10, 5, 8, 3]\n",
    "modify_list(lst)\n",
    "print(lst)               # [5, 4]"
   ]
  },
  {
   "cell_type": "code",
   "execution_count": 87,
   "id": "94b74fe1",
   "metadata": {
    "scrolled": true
   },
   "outputs": [
    {
     "data": {
      "text/plain": [
       "[1, 2, 3]"
      ]
     },
     "execution_count": 87,
     "metadata": {},
     "output_type": "execute_result"
    }
   ],
   "source": [
    "lst = [1, 2, 3, 4, 5, 6] \n",
    "def modify_list(lst):\n",
    "    for i in lst:\n",
    "        if i % 2 > 0:\n",
    "            lst.remove(i)\n",
    "    for i in range(len(lst)):\n",
    "        lst[i] = lst[i]//2\n",
    "            \n",
    "modify_list(lst)\n",
    "lst"
   ]
  },
  {
   "cell_type": "markdown",
   "id": "93bb4bcb",
   "metadata": {},
   "source": [
    "# Задача 6"
   ]
  },
  {
   "cell_type": "markdown",
   "id": "1a72a3e2",
   "metadata": {},
   "source": [
    "Напишите функцию update_dictionary(d, key, value), которая принимает на вход словарь d и два числа: key и value.\n",
    "\n",
    "Если ключ key есть в словаре d, то добавьте значение value в список, который хранится по этому ключу. Если ключа key нет в словаре, то нужно добавить значение в список по ключу 2∗key. Если и ключа 2∗key нет, то нужно добавить ключ 2∗key в словарь и сопоставить ему список из переданного элемента value.\n",
    "\n",
    "Требуется реализовать только эту функцию, кода вне её не должно быть. Функция не должна вызывать внутри себя функции input и print.\n",
    "\n",
    "Пример работы функции:"
   ]
  },
  {
   "cell_type": "code",
   "execution_count": 130,
   "id": "ddc35aa7",
   "metadata": {},
   "outputs": [
    {
     "name": "stdout",
     "output_type": "stream",
     "text": [
      "None\n",
      "{2: [-1]}\n",
      "{2: [-1, -2]}\n",
      "{2: [-1, -2, -3]}\n"
     ]
    }
   ],
   "source": [
    "d = {}\n",
    "print(update_dictionary(d, 1, -1))  # None\n",
    "print(d)                            # {2: [-1]}\n",
    "update_dictionary(d, 2, -2)\n",
    "print(d)                            # {2: [-1, -2]}\n",
    "update_dictionary(d, 1, -3)\n",
    "print(d)                            # {2: [-1, -2, -3]}"
   ]
  },
  {
   "cell_type": "code",
   "execution_count": 147,
   "id": "cf96b0f0",
   "metadata": {},
   "outputs": [
    {
     "name": "stdout",
     "output_type": "stream",
     "text": [
      "None\n",
      "{2: [-1]}\n",
      "{2: [-1, -2]}\n",
      "{2: [-1, -2, -3]}\n",
      "{2: [-1, -2, -3], 20: ['fun']}\n"
     ]
    }
   ],
   "source": [
    "d={}\n",
    "def update_dictionary(d, key, value):\n",
    "    if key in d:\n",
    "        d[key].append(value)\n",
    "    else:\n",
    "        if 2 * key in d:\n",
    "            d[2 * key].append(value)\n",
    "        else:\n",
    "            d[2 * key] = [value]\n",
    "\n",
    "print(update_dictionary(d, 1, -1))\n",
    "print(d)\n",
    "update_dictionary(d, 2, -2)   # should append value '-2' to key'2'\n",
    "print(d)\n",
    "update_dictionary(d, 1, -3)   # should append value '-3' to key'2'\n",
    "print(d)\n",
    "update_dictionary(d, 10, \"fun\") # should append key '20' and value 'fun'\n",
    "print(d)"
   ]
  },
  {
   "cell_type": "markdown",
   "id": "32c99ce9",
   "metadata": {},
   "source": [
    "# Задача 7:\n",
    "Напишите программу, которая выводит часть последовательности 1 2 2 3 3 3 4 4 4 4 5 5 5 5 5 ... (число повторяется столько раз, чему равно). На вход программе передаётся неотрицательное целое число n — столько элементов последовательности должна отобразить программа. На выходе ожидается последовательность чисел, записанных через пробел в одну строку.\n",
    "\n",
    "Например, если n = 7, то программа должна вывести 1 2 2 3 3 3 4."
   ]
  },
  {
   "cell_type": "code",
   "execution_count": 148,
   "id": "e944ea5a",
   "metadata": {
    "scrolled": true
   },
   "outputs": [
    {
     "name": "stdout",
     "output_type": "stream",
     "text": [
      "7\n",
      "1 2 2 3 3 3 4 "
     ]
    }
   ],
   "source": [
    "n = int(input())\n",
    "m = []\n",
    "for i in range(0, n+1):\n",
    "    j = 0\n",
    "    while j < i+1:\n",
    "        m.append(i+1)\n",
    "        j += 1\n",
    "    if len(m)>n: break\n",
    "m = m[0:n]\n",
    "for i in m:\n",
    "    print(i, end = \" \")"
   ]
  },
  {
   "cell_type": "markdown",
   "id": "0f647644",
   "metadata": {},
   "source": [
    "Для самостоятельной работы, показать мастерство: https://stepik.org/course/67/syllabus"
   ]
  }
 ],
 "metadata": {
  "kernelspec": {
   "display_name": "Python 3 (ipykernel)",
   "language": "python",
   "name": "python3"
  },
  "language_info": {
   "codemirror_mode": {
    "name": "ipython",
    "version": 3
   },
   "file_extension": ".py",
   "mimetype": "text/x-python",
   "name": "python",
   "nbconvert_exporter": "python",
   "pygments_lexer": "ipython3",
   "version": "3.9.12"
  }
 },
 "nbformat": 4,
 "nbformat_minor": 5
}
